{
 "cells": [
  {
   "cell_type": "code",
   "execution_count": 1,
   "metadata": {},
   "outputs": [],
   "source": [
    "import numpy as np\n",
    "import os\n",
    "from datetime import date\n",
    "\n",
    "from define_bait_layout import bait_list, plot_cache_map, plot_annotated_cache_map\n",
    "\n",
    "import matplotlib.pyplot as plt"
   ]
  },
  {
   "cell_type": "code",
   "execution_count": 2,
   "metadata": {},
   "outputs": [
    {
     "name": "stdout",
     "output_type": "stream",
     "text": [
      "bird ID: SPP46\n",
      "random seed: 2304071\n"
     ]
    }
   ],
   "source": [
    "''' session params - update each time '''\n",
    "bird_id = input(\"bird ID: \")\n",
    "\n",
    "# for baiting sites\n",
    "seed = input(\"random seed: \")\n",
    "seed = np.array([seed]).astype(int)[0]"
   ]
  },
  {
   "cell_type": "code",
   "execution_count": 3,
   "metadata": {},
   "outputs": [],
   "source": [
    "''' make session dir '''\n",
    "root = \"Z:/Isabel/data/acquisition/\"\n",
    "\n",
    "# get today's date\n",
    "today_raw = date.today().isoformat()\n",
    "today = f\"{today_raw[2:4]}{today_raw[5:7]}{today_raw[8:]}\"\n",
    "\n",
    "# make dir\n",
    "session_folder = f\"{bird_id}_{today}/\"\n",
    "session_path = f\"{root}{session_folder}\"\n",
    "if os.path.exists(session_path):\n",
    "    print(\"warning, session folder already exists!\")\n",
    "else:\n",
    "    os.mkdir(session_path)"
   ]
  },
  {
   "cell_type": "code",
   "execution_count": 4,
   "metadata": {},
   "outputs": [
    {
     "name": "stdout",
     "output_type": "stream",
     "text": [
      "bait 8 sites: [ 8 15 21 24 47 68 69 74]\n"
     ]
    }
   ],
   "source": [
    "''' determine sites to bait '''\n",
    "to_bait = np.arange(8, 11)\n",
    "rng = np.random.default_rng(seed=seed)\n",
    "n_baits = rng.choice(to_bait)\n",
    "baited_sites = bait_list(n_baits, seed)\n",
    "\n",
    "# save the site numbers\n",
    "baited_site_file = f\"{session_path}baited_sites.txt\"\n",
    "np.savetxt(baited_site_file, baited_sites, fmt ='%.0f\\n')"
   ]
  },
  {
   "cell_type": "code",
   "execution_count": 5,
   "metadata": {},
   "outputs": [
    {
     "data": {
      "image/png": "[encoded data removed]",
      "text/plain": [
       "<Figure size 360x360 with 1 Axes>"
      ]
     },
     "metadata": {},
     "output_type": "display_data"
    },
    {
     "data": {
      "image/png": "[encoded data removed]",
      "text/plain": [
       "<Figure size 360x360 with 1 Axes>"
      ]
     },
     "metadata": {},
     "output_type": "display_data"
    }
   ],
   "source": [
    "''' plot cache map w/ baits labeled '''\n",
    "f, ax = plot_cache_map(baited_sites, top_view=True)\n",
    "ax.set_title('top view')\n",
    "plt.show()\n",
    "f.savefig(f'{session_path}site_map_top.png', dpi=600, bbox_inches='tight')\n",
    "\n",
    "f, ax = plot_cache_map(baited_sites, top_view=False)\n",
    "ax.set_title('from below')\n",
    "plt.show()\n",
    "f.savefig(f'{session_path}site_map_bot.png', dpi=600, bbox_inches='tight')"
   ]
  },
  {
   "cell_type": "code",
   "execution_count": null,
   "metadata": {},
   "outputs": [],
   "source": []
  }
 ],
 "metadata": {
  "kernelspec": {
   "display_name": "Python 3",
   "language": "python",
   "name": "python3"
  },
  "language_info": {
   "codemirror_mode": {
    "name": "ipython",
    "version": 3
   },
   "file_extension": ".py",
   "mimetype": "text/x-python",
   "name": "python",
   "nbconvert_exporter": "python",
   "pygments_lexer": "ipython3",
   "version": "3.6.5"
  }
 },
 "nbformat": 4,
 "nbformat_minor": 2
}
